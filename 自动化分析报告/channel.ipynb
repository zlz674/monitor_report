{
 "cells": [
  {
   "cell_type": "code",
   "execution_count": 1,
   "metadata": {},
   "outputs": [],
   "source": [
    "import pandas as pd\n",
    "import os\n",
    "from datetime import datetime, timedelta\n",
    "import matplotlib.pyplot as plt\n",
    "from matplotlib.pylab import style\n",
    "style.use('ggplot')    \n",
    "plt.rcParams['font.sans-serif'] = ['SimHei'] \n",
    "plt.rcParams['axes.unicode_minus'] = False  "
   ]
  },
  {
   "cell_type": "code",
   "execution_count": 28,
   "metadata": {},
   "outputs": [],
   "source": [
    "def merge_df(dt):\n",
    "    df_resolve_new = pd.read_csv(f'stat{dt}/resolve_stat/gdl_jrs_msg_parse_channel.csv',\n",
    "                             index_col = False)\n",
    "    df_resolve_init = pd.read_csv('resolve/gdl_jrs_msg_parse_channel.csv',index_col = False)\n",
    "    df_resolve_init['table_name'] = 'gdl_jrs_msg_parse'\n",
    "    df_resolve_new.drop_duplicates(inplace = True)\n",
    "    df_resolve_init.drop_duplicates(inplace = True)\n",
    "    df_resolve = df_resolve_init.append(df_resolve_new).sort_values('dt').reset_index(drop = True)\n",
    "    df_resolve.drop_duplicates(inplace = True)\n",
    "    df_resolve.to_csv('resolve/gdl_jrs_msg_parse_channel.csv',index = False)\n",
    "    return df_resolve"
   ]
  },
  {
   "cell_type": "code",
   "execution_count": 29,
   "metadata": {},
   "outputs": [],
   "source": [
    "df_channel = merge_df('20200920')"
   ]
  },
  {
   "cell_type": "code",
   "execution_count": 13,
   "metadata": {},
   "outputs": [],
   "source": [
    "date_start = '2019-03-01'\n",
    "date_end = '2019-03-07'\n",
    "# date_last = str(datetime.strptime(date_start, \"%Y-%m-%d\")- timedelta(days=6))[:-9]"
   ]
  },
  {
   "cell_type": "code",
   "execution_count": 20,
   "metadata": {},
   "outputs": [],
   "source": [
    "df_channel_week = df_channel[(df_channel['dt'] > date_start) & (df_channel['dt'] < date_end)]"
   ]
  },
  {
   "cell_type": "code",
   "execution_count": 17,
   "metadata": {},
   "outputs": [],
   "source": [
    "df_channnel_all = df_channel.groupby(['channel','dt']).agg('sum')"
   ]
  },
  {
   "cell_type": "code",
   "execution_count": 18,
   "metadata": {},
   "outputs": [
    {
     "data": {
      "text/html": [
       "<div>\n",
       "<style scoped>\n",
       "    .dataframe tbody tr th:only-of-type {\n",
       "        vertical-align: middle;\n",
       "    }\n",
       "\n",
       "    .dataframe tbody tr th {\n",
       "        vertical-align: top;\n",
       "    }\n",
       "\n",
       "    .dataframe thead th {\n",
       "        text-align: right;\n",
       "    }\n",
       "</style>\n",
       "<table border=\"1\" class=\"dataframe\">\n",
       "  <thead>\n",
       "    <tr style=\"text-align: right;\">\n",
       "      <th></th>\n",
       "      <th>channel</th>\n",
       "      <th>dt</th>\n",
       "      <th>num</th>\n",
       "      <th>unique_num</th>\n",
       "    </tr>\n",
       "  </thead>\n",
       "  <tbody>\n",
       "    <tr>\n",
       "      <td>0</td>\n",
       "      <td>0</td>\n",
       "      <td>2019-03-01</td>\n",
       "      <td>928683813</td>\n",
       "      <td>464864870</td>\n",
       "    </tr>\n",
       "    <tr>\n",
       "      <td>1</td>\n",
       "      <td>0</td>\n",
       "      <td>2019-03-02</td>\n",
       "      <td>825572181</td>\n",
       "      <td>439876843</td>\n",
       "    </tr>\n",
       "    <tr>\n",
       "      <td>2</td>\n",
       "      <td>0</td>\n",
       "      <td>2019-03-03</td>\n",
       "      <td>711135680</td>\n",
       "      <td>380043513</td>\n",
       "    </tr>\n",
       "    <tr>\n",
       "      <td>3</td>\n",
       "      <td>0</td>\n",
       "      <td>2019-03-04</td>\n",
       "      <td>676758320</td>\n",
       "      <td>431798027</td>\n",
       "    </tr>\n",
       "    <tr>\n",
       "      <td>4</td>\n",
       "      <td>0</td>\n",
       "      <td>2019-03-05</td>\n",
       "      <td>754907917</td>\n",
       "      <td>417036852</td>\n",
       "    </tr>\n",
       "    <tr>\n",
       "      <td>...</td>\n",
       "      <td>...</td>\n",
       "      <td>...</td>\n",
       "      <td>...</td>\n",
       "      <td>...</td>\n",
       "    </tr>\n",
       "    <tr>\n",
       "      <td>1299</td>\n",
       "      <td>3</td>\n",
       "      <td>2020-09-07</td>\n",
       "      <td>1695783</td>\n",
       "      <td>1192579</td>\n",
       "    </tr>\n",
       "    <tr>\n",
       "      <td>1300</td>\n",
       "      <td>3</td>\n",
       "      <td>2020-09-08</td>\n",
       "      <td>1743380</td>\n",
       "      <td>1221891</td>\n",
       "    </tr>\n",
       "    <tr>\n",
       "      <td>1301</td>\n",
       "      <td>3</td>\n",
       "      <td>2020-09-09</td>\n",
       "      <td>2276788</td>\n",
       "      <td>1571340</td>\n",
       "    </tr>\n",
       "    <tr>\n",
       "      <td>1302</td>\n",
       "      <td>3</td>\n",
       "      <td>2020-09-10</td>\n",
       "      <td>1805726</td>\n",
       "      <td>1265520</td>\n",
       "    </tr>\n",
       "    <tr>\n",
       "      <td>1303</td>\n",
       "      <td>3</td>\n",
       "      <td>2020-09-11</td>\n",
       "      <td>1740171</td>\n",
       "      <td>1241449</td>\n",
       "    </tr>\n",
       "  </tbody>\n",
       "</table>\n",
       "<p>1304 rows × 4 columns</p>\n",
       "</div>"
      ],
      "text/plain": [
       "      channel          dt        num  unique_num\n",
       "0           0  2019-03-01  928683813   464864870\n",
       "1           0  2019-03-02  825572181   439876843\n",
       "2           0  2019-03-03  711135680   380043513\n",
       "3           0  2019-03-04  676758320   431798027\n",
       "4           0  2019-03-05  754907917   417036852\n",
       "...       ...         ...        ...         ...\n",
       "1299        3  2020-09-07    1695783     1192579\n",
       "1300        3  2020-09-08    1743380     1221891\n",
       "1301        3  2020-09-09    2276788     1571340\n",
       "1302        3  2020-09-10    1805726     1265520\n",
       "1303        3  2020-09-11    1740171     1241449\n",
       "\n",
       "[1304 rows x 4 columns]"
      ]
     },
     "execution_count": 18,
     "metadata": {},
     "output_type": "execute_result"
    }
   ],
   "source": [
    "df_channnel_all = df_channnel_all.reset_index()"
   ]
  },
  {
   "cell_type": "code",
   "execution_count": 23,
   "metadata": {},
   "outputs": [],
   "source": [
    "df_channel_week = df_channel_week.groupby(['channel','dt']).agg('sum')"
   ]
  },
  {
   "cell_type": "code",
   "execution_count": null,
   "metadata": {},
   "outputs": [],
   "source": []
  }
 ],
 "metadata": {
  "kernelspec": {
   "display_name": "Python 3",
   "language": "python",
   "name": "python3"
  },
  "language_info": {
   "codemirror_mode": {
    "name": "ipython",
    "version": 3
   },
   "file_extension": ".py",
   "mimetype": "text/x-python",
   "name": "python",
   "nbconvert_exporter": "python",
   "pygments_lexer": "ipython3",
   "version": "3.7.4"
  }
 },
 "nbformat": 4,
 "nbformat_minor": 4
}
