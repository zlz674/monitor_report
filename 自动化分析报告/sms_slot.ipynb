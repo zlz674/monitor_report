{
 "cells": [
  {
   "cell_type": "code",
   "execution_count": 1,
   "metadata": {},
   "outputs": [],
   "source": [
    "import pandas as pd\n",
    "import os\n",
    "from datetime import datetime, timedelta\n",
    "import matplotlib.pyplot as plt\n",
    "from matplotlib.pylab import style\n",
    "style.use('ggplot')    \n",
    "plt.rcParams['font.sans-serif'] = ['SimHei'] \n",
    "plt.rcParams['axes.unicode_minus'] = False  "
   ]
  },
  {
   "cell_type": "code",
   "execution_count": 2,
   "metadata": {},
   "outputs": [],
   "source": [
    "def merge_df(dt):\n",
    "    df_resolve_new = pd.read_csv(f'stat{dt}/resolve_stat/gdl_jrs_msg_parse_sms_time_slot.csv',\n",
    "                             index_col = False)\n",
    "    df_resolve_init = pd.read_csv('resolve/gdl_jrs_msg_parse_sms_time_slot.csv',index_col = False)\n",
    "    df_resolve_init['table_name'] = 'gdl_jrs_msg_parse'\n",
    "    df_resolve_new.drop_duplicates(inplace = True)\n",
    "    df_resolve_init.drop_duplicates(inplace = True)\n",
    "    df_resolve = df_resolve_init.append(df_resolve_new).sort_values('dt').reset_index(drop = True)\n",
    "    df_resolve.drop_duplicates(inplace = True)\n",
    "    df_resolve.to_csv('resolve/gdl_jrs_msg_parse_sms_time_slot.csv',index = False)\n",
    "    return df_resolve"
   ]
  },
  {
   "cell_type": "code",
   "execution_count": 3,
   "metadata": {},
   "outputs": [],
   "source": [
    "df_sms_time_slot = merge_df('20200920')"
   ]
  },
  {
   "cell_type": "code",
   "execution_count": null,
   "metadata": {},
   "outputs": [],
   "source": []
  }
 ],
 "metadata": {
  "kernelspec": {
   "display_name": "Python 3",
   "language": "python",
   "name": "python3"
  },
  "language_info": {
   "codemirror_mode": {
    "name": "ipython",
    "version": 3
   },
   "file_extension": ".py",
   "mimetype": "text/x-python",
   "name": "python",
   "nbconvert_exporter": "python",
   "pygments_lexer": "ipython3",
   "version": "3.7.4"
  }
 },
 "nbformat": 4,
 "nbformat_minor": 4
}
