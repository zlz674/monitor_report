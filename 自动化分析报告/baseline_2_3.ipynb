{
 "cells": [
  {
   "cell_type": "code",
   "execution_count": 1,
   "metadata": {},
   "outputs": [],
   "source": [
    "import pandas as pd\n",
    "import os\n",
    "from datetime import datetime, timedelta\n",
    "import matplotlib.pyplot as plt\n",
    "from matplotlib.pylab import style\n",
    "style.use('ggplot')    \n",
    "plt.rcParams['font.sans-serif'] = ['SimHei'] \n",
    "plt.rcParams['axes.unicode_minus'] = False  "
   ]
  },
  {
   "cell_type": "markdown",
   "metadata": {},
   "source": [
    "# 导入数据"
   ]
  },
  {
   "cell_type": "code",
   "execution_count": 2,
   "metadata": {},
   "outputs": [],
   "source": [
    "def merge_df(dt):\n",
    "    df_resolve_new = pd.read_csv(f'stat{dt}/resolve_stat/gdl_jrs_msg_parse_baseline_2_3.csv',\n",
    "                             index_col = False)\n",
    "    df_resolve_init = pd.read_csv('resolve/gdl_jrs_msg_parse_baseline_2_3.csv',index_col = False)\n",
    "    df_resolve_init['table_name'] = 'gdl_jrs_msg_parse'\n",
    "    df_resolve_new.drop_duplicates(inplace = True)\n",
    "    df_resolve_init.drop_duplicates(inplace = True)\n",
    "    df_resolve = df_resolve_init.append(df_resolve_new).sort_values('dt').reset_index(drop = True)\n",
    "    df_resolve.drop_duplicates(inplace = True)\n",
    "    df_resolve.to_csv('resolve/gdl_jrs_msg_parse_baseline_2_3.csv',index = False)\n",
    "    return df_resolve"
   ]
  },
  {
   "cell_type": "code",
   "execution_count": 52,
   "metadata": {},
   "outputs": [],
   "source": [
    "def industry_ana(date_start,date_end,df_category_import,important_category):\n",
    "    with pd.ExcelWriter('result_excel/result_2_3/baseline_2_3_industry.xlsx') as writer:\n",
    "        for i in important_category:\n",
    "            df_category_industry = df_category_import[(df_category_import['category_2']==i) & (df_category_import['dt'] > date_start) & (df_category_import['dt'] < date_end)].sort_values(['dt','category_3']).reset_index(drop = True)\n",
    "            df_category_industry_3 = df_category_industry.groupby(['三级分类含义']).agg('sum')[['total_num','unique_num']].reset_index()\n",
    "            df_category_industry_3['unique_num_weight'] = df_category_industry_3['unique_num']/df_category_industry_3['unique_num'].sum()\n",
    "            df_category_industry_3['total_num_weight'] = df_category_industry_3['total_num']/df_category_industry_3['total_num'].sum()\n",
    "            df_category_industry_3['week'] = date_start\n",
    "            desc = df_category_industry['二级分类含义'].unique()[0]\n",
    "            plt.figure(figsize=(15, 5), dpi=80)\n",
    "            plt.bar(df_category_industry_3['三级分类含义'],df_category_industry_3['total_num'],color = \"#87CEFA\")\n",
    "            plt.ylabel(f'{desc}用户各行为的短信条数(万)')\n",
    "            for a,b in zip(df_category_industry_3['三级分类含义'],df_category_industry_3['total_num']):\n",
    "                plt.text(a, b-0.3,'%.2f'%round(b/100000,3), ha = 'center',va = 'bottom',fontsize=15)\n",
    "            plt.savefig(f'result_picture/result_2_3/result_{date_start}_{date_end}/{date_start}_{date_end}_{desc}用户各行为的短信条数', dpi=300)\n",
    "            plt.close()\n",
    "            plt.figure(figsize=(15, 8), dpi=80)\n",
    "            plt.bar(df_category_industry_3['三级分类含义'],df_category_industry_3['unique_num'],color = \"#87CEFA\")\n",
    "            plt.ylabel(f'{desc}用户各行为的独立用户数(万)')\n",
    "            for a,b in zip(df_category_industry_3['三级分类含义'],df_category_industry_3['unique_num']):\n",
    "                plt.text(a, b-0.3,'%.2f'%round(b/10000,3), ha = 'center',va = 'bottom',fontsize=15)\n",
    "            plt.savefig(f'result_picture/result_2_3/result_{date_start}_{date_end}/{date_start}_{date_end}_{desc}用户各行为的独立用户数', dpi=300)\n",
    "            plt.close()\n",
    "            plt.figure(1,figsize=(20,20), dpi=80)#将画布设定为正方形，则绘制的饼图是正圆\n",
    "            plt.axes(aspect=1) \n",
    "            industry_3 = list(df_category_industry_3['三级分类含义'])\n",
    "            explodes = []\n",
    "            l = 1\n",
    "            m = 0.1\n",
    "            for index,key in enumerate(industry_3): \n",
    "                if float(df_category_industry_3[df_category_industry_3['三级分类含义'] == key]['total_num_weight'])>0.001:\n",
    "                    explodes.append(0.0)\n",
    "                else:\n",
    "                    if explodes[index - 1] == 0.0:\n",
    "                        l = 1\n",
    "                    explodes.append(l*m)\n",
    "                    l = l+2\n",
    "            plt.title(f'{date_start}_{date_end}_{desc}用户各行为短信条数占比',fontsize = 20,fontweight = 'black',x = 0.5)#绘制标题\n",
    "            plt.pie(x = df_category_industry_3['total_num'],autopct='%3.1f %%', startangle=90, pctdistance=0.8,explode =explodes)\n",
    "            plt.legend(labels=df_category_industry_3['三级分类含义'])\n",
    "            plt.savefig(f'result_picture/result_2_3/result_{date_start}_{date_end}/{date_start}_{date_end}_{desc}用户各行为的短信条数占比', dpi=300)\n",
    "            plt.close()\n",
    "            plt.figure(1,figsize=(20,20), dpi=80)#将画布设定为正方形，则绘制的饼图是正圆\n",
    "            plt.axes(aspect=1) \n",
    "            plt.title(f'{date_start}_{date_end}_{desc}用户各行为用户数占比',fontsize = 20,fontweight = 'black',x = 0.5)#绘制标题\n",
    "            plt.pie(x = df_category_industry_3['unique_num'],autopct='%3.1f %%', startangle=90, pctdistance=0.8,explode = explodes)\n",
    "            plt.legend(labels=df_category_industry_3['三级分类含义'],)\n",
    "            plt.savefig(f'result_picture/result_2_3/result_{date_start}_{date_end}/{date_start}_{date_end}_{desc}用户各行为的用户数占比', dpi=300)\n",
    "            plt.close()\n",
    "            if os.path.exists('result_excel/result_2_3/baseline_2_3_industry.xlsx') :\n",
    "                df_category_industry_3_1 = pd.read_excel('result_excel/result_2_3/baseline_2_3_industry.xlsx',sheet_name = f'{desc}用户的短信和独立用户数',index = False)\n",
    "                df_category_industry_3_1 = df_category_industry_3_1.append(df_category_industry_3)\n",
    "            else:\n",
    "                df_category_industry_3_1 = df_category_industry_3\n",
    "            df_category_industry_3_1.to_excel(writer,sheet_name = f'{desc}用户的短信和独立用户数',index = False)"
   ]
  },
  {
   "cell_type": "code",
   "execution_count": 4,
   "metadata": {},
   "outputs": [],
   "source": [
    "def industry_all_ana(date_start,date_end,df_category_import):\n",
    "    df_category_import_week = df_category_import[(df_category_import['dt'] > date_start) & (df_category_import['dt'] < date_end)]\n",
    "    df_category_import_week1 = df_category_import_week.groupby(['二级分类含义']).agg('sum')[['total_num','unique_num']].reset_index()\n",
    "    df_category_import_week1['week'] = date_start\n",
    "    if os.path.exists('result_excel/result_2_3/baseline_2_3_week.xlsx'):\n",
    "        df_category_import_week2 = pd.read_excel('result_excel/result_2_3/baseline_2_3_week.xlsx',index = False)\n",
    "        df_category_import_week2 = df_category_import_week2.append(df_category_import_week1)\n",
    "    else:\n",
    "        df_category_import_week2 = df_category_import_week1\n",
    "    with pd.ExcelWriter('result_excel/result_2_3/baseline_2_3_week.xlsx') as writer:\n",
    "         df_category_import_week2.to_excel(writer,sheet_name = '各机构类型的短信和独立用户数',index = False)\n",
    "    if not os.path.exists(f'result_picture/result_2_3/result_{date_start}_{date_end}'):\n",
    "        os.mkdir(f'result_picture/result_2_3/result_{date_start}_{date_end}')\n",
    "    plt.figure(figsize=(10, 8), dpi=80)\n",
    "    plt.bar(df_category_import_week1['二级分类含义'],df_category_import_week1['total_num'],color = \"#87CEFA\")\n",
    "    plt.ylabel(f'{date_start}_{date_end}各机构类型的短信条数(千万)')\n",
    "    for a,b in zip(df_category_import_week1['二级分类含义'],df_category_import_week1['total_num']):\n",
    "        plt.text(a, b-0.3,'%.2f'%round(b/10000000,3), ha = 'center',va = 'bottom',fontsize=15)\n",
    "    plt.savefig(f'result_picture/result_2_3/result_{date_start}_{date_end}/{date_start}_{date_end}_各行为的短信条数', dpi=300)\n",
    "    plt.close()\n",
    "    plt.figure(figsize=(10, 8), dpi=80)\n",
    "    plt.bar(df_category_import_week1['二级分类含义'],df_category_import_week1['unique_num'],color = \"#87CEFA\")\n",
    "    plt.ylabel(f'{date_start}_{date_end}各机构类型的独立用户数(千万)')\n",
    "    for a,b in zip(df_category_import_week1['二级分类含义'],df_category_import_week1['unique_num']):\n",
    "        plt.text(a, b-0.3,'%.2f'%round(b/10000000,3), ha = 'center',va = 'bottom',fontsize=15)\n",
    "    plt.savefig(f'result_picture/result_2_3/result_{date_start}_{date_end}/{date_start}_{date_end}_各行为的用户数', dpi=300)\n",
    "    plt.close()"
   ]
  },
  {
   "cell_type": "code",
   "execution_count": 5,
   "metadata": {},
   "outputs": [],
   "source": [
    "def main(date_start,date_final,df_category_import,important_category):\n",
    "    if not os.path.exists('result_excel/result_2_3'):\n",
    "        os.mkdir('result_excel/result_2_3')\n",
    "    if not os.path.exists('result_picture/result_2_3'):\n",
    "        os.mkdir('result_picture/result_2_3')\n",
    "    while date_start<date_final:\n",
    "        print(date_start)\n",
    "        date_start1 = datetime.strptime(date_start, \"%Y-%m-%d\")\n",
    "        date_end = str(date_start1 - timedelta(days=-6))[:-9]\n",
    "        industry_all_ana(date_start,date_end,df_category_import)\n",
    "        industry_ana(date_start,date_end,df_category_import,important_category)\n",
    "        date_start = date_end"
   ]
  },
  {
   "cell_type": "code",
   "execution_count": null,
   "metadata": {},
   "outputs": [
    {
     "name": "stdout",
     "output_type": "stream",
     "text": [
      "2019-03-01\n",
      "2019-03-07\n",
      "2019-03-13\n",
      "2019-03-19\n",
      "2019-03-25\n",
      "2019-03-31\n",
      "2019-04-06\n",
      "2019-04-12\n",
      "2019-04-18\n",
      "2019-04-24\n",
      "2019-04-30\n",
      "2019-05-06\n",
      "2019-05-12\n",
      "2019-05-18\n"
     ]
    }
   ],
   "source": [
    "date_start = '2019-03-01'\n",
    "date_final = '2019-06-08'\n",
    "df_category = merge_df('20200920')\n",
    "important_category = ['credit_card','bank_budget','other_budget','loan','business_insurance',\n",
    "                      'gong_ji_jin','report']\n",
    "other_import = ['chat','express','games','hotel','onlineshopping','recruit','takeoutfood',\n",
    "                'taxi','tourism','yys']\n",
    "df_category_import = df_category[df_category['category_2'].isin(important_category+other_import)]\n",
    "category_list = pd.read_excel('category2_3.xlsx',index = False)\n",
    "category_list.rename(columns = {\"二级分类名称\":\"category_2\",\"三级分类名称\":\"category_3\"},inplace = True)\n",
    "df_category_import =df_category_import.merge(category_list,on = ['category_2','category_3'],how = 'left')\n",
    "df_category_import = df_category_import[['category_2','二级分类含义','category_3','三级分类含义','total_num','unique_num','dt']]\n",
    "important_category = important_category+other_import\n",
    "main(date_start,date_final,df_category_import,important_category+other_import)"
   ]
  }
 ],
 "metadata": {
  "kernelspec": {
   "display_name": "Python 3",
   "language": "python",
   "name": "python3"
  },
  "language_info": {
   "codemirror_mode": {
    "name": "ipython",
    "version": 3
   },
   "file_extension": ".py",
   "mimetype": "text/x-python",
   "name": "python",
   "nbconvert_exporter": "python",
   "pygments_lexer": "ipython3",
   "version": "3.7.4"
  }
 },
 "nbformat": 4,
 "nbformat_minor": 4
}
